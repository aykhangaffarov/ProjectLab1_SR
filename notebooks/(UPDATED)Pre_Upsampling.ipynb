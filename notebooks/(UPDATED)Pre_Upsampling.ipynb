{
  "nbformat": 4,
  "nbformat_minor": 0,
  "metadata": {
    "accelerator": "GPU",
    "colab": {
      "name": "(UPDATED)Pre_Upsampling.ipynb",
      "private_outputs": true,
      "provenance": [],
      "collapsed_sections": []
    },
    "kernelspec": {
      "display_name": "Python 3",
      "language": "python",
      "name": "python3"
    },
    "language_info": {
      "codemirror_mode": {
        "name": "ipython",
        "version": 3
      },
      "file_extension": ".py",
      "mimetype": "text/x-python",
      "name": "python",
      "nbconvert_exporter": "python",
      "pygments_lexer": "ipython3",
      "version": "3.8.5"
    }
  },
  "cells": [
    {
      "cell_type": "code",
      "metadata": {
        "id": "jpUkP2vpV3P0"
      },
      "source": [
        "%load_ext autoreload\n",
        "%autoreload 2"
      ],
      "execution_count": null,
      "outputs": []
    },
    {
      "cell_type": "code",
      "metadata": {
        "id": "4pTqK0Pytciy"
      },
      "source": [
        "import tensorflow as tf\n",
        "print(tf.__version__)"
      ],
      "execution_count": null,
      "outputs": []
    },
    {
      "cell_type": "markdown",
      "metadata": {
        "id": "FaAUkhTxnzQT"
      },
      "source": [
        "# Environment prep for Colab\n",
        " - download git repo \n",
        " - install required pip packages"
      ]
    },
    {
      "cell_type": "code",
      "metadata": {
        "id": "0zbi2r-8nENp"
      },
      "source": [
        "!git clone https://github.com/aykhangaffarov/Generative_Models # this is for loading git with correct brach"
      ],
      "execution_count": null,
      "outputs": []
    },
    {
      "cell_type": "code",
      "metadata": {
        "id": "lC-25diVjJsw"
      },
      "source": [
        "from google.colab import drive\n",
        "drive.mount('/content/drive')\n",
        "#!mkdir /content/drive/My\\ Drive/Results\n",
        "MAIN_SAVE_DIR = '/content/drive/My Drive/Results'\n"
      ],
      "execution_count": null,
      "outputs": []
    },
    {
      "cell_type": "code",
      "metadata": {
        "id": "d4BSW2ZInEKA"
      },
      "source": [
        "#!mv Generative_Models/data/.CBSD68/CBSD68.tar.bz Generative_Models/data/"
      ],
      "execution_count": null,
      "outputs": []
    },
    {
      "cell_type": "markdown",
      "metadata": {
        "id": "cP2DxgJQNh89"
      },
      "source": [
        "# Settings"
      ]
    },
    {
      "cell_type": "code",
      "metadata": {
        "id": "lBkQvXhrC5dD"
      },
      "source": [
        "import os\n",
        "print(os.getcwd())"
      ],
      "execution_count": null,
      "outputs": []
    },
    {
      "cell_type": "code",
      "metadata": {
        "id": "dEwmfIVPNh89"
      },
      "source": [
        "%env TF_KERAS = 1\n",
        "\n",
        "sep_local = os.path.sep\n",
        "\n",
        "import sys\n",
        "sys.path.append('..'+sep_local+'..')\n",
        "print(sep_local)"
      ],
      "execution_count": null,
      "outputs": []
    },
    {
      "cell_type": "code",
      "metadata": {
        "id": "pPvm6B2fNh9E"
      },
      "source": [
        "os.chdir('Generative_Models')\n",
        "print(os.getcwd())"
      ],
      "execution_count": null,
      "outputs": []
    },
    {
      "cell_type": "code",
      "metadata": {
        "id": "nuhdhPanCoP3"
      },
      "source": [
        "!pip -q install -r requirements.txt"
      ],
      "execution_count": null,
      "outputs": []
    },
    {
      "cell_type": "markdown",
      "metadata": {
        "id": "adBKUv8JoNHY"
      },
      "source": [
        "# Unzip"
      ]
    },
    {
      "cell_type": "code",
      "metadata": {
        "id": "dV2L7nGkDmur"
      },
      "source": [
        "!ls -a data/.CBSD68_low2high_LMDB"
      ],
      "execution_count": null,
      "outputs": []
    },
    {
      "cell_type": "code",
      "metadata": {
        "id": "_E02dQATFAHD"
      },
      "source": [
        "!cat  data/.CBSD68_low2high_LMDB/.CBSD68_low2high_LMDB.tar.*  > data/.CBSD68_low2high_LMDB/.CBSD68_low2high_LMDB.tar"
      ],
      "execution_count": null,
      "outputs": []
    },
    {
      "cell_type": "code",
      "metadata": {
        "id": "EoJOjd0koPV9"
      },
      "source": [
        "!tar -xvf data/.CBSD68_low2high_LMDB/.CBSD68_low2high_LMDB.tar"
      ],
      "execution_count": null,
      "outputs": []
    },
    {
      "cell_type": "code",
      "metadata": {
        "id": "j0vKl-TvGaxK"
      },
      "source": [
        "!ls -a .CBSD68_low2high_LMDB"
      ],
      "execution_count": null,
      "outputs": []
    },
    {
      "cell_type": "code",
      "metadata": {
        "id": "3FiBkKsjStoa"
      },
      "source": [
        "#!mv data/.CBSD68_low2high_LMDB/ data/SR"
      ],
      "execution_count": null,
      "outputs": []
    },
    {
      "cell_type": "code",
      "metadata": {
        "id": "ZPqgoyVWSVtx"
      },
      "source": [
        "#!ls data/SR"
      ],
      "execution_count": null,
      "outputs": []
    },
    {
      "cell_type": "markdown",
      "metadata": {
        "id": "yO-0nI9608uf"
      },
      "source": [
        "# **Loading** Dataset"
      ]
    },
    {
      "cell_type": "code",
      "metadata": {
        "id": "Etjuuv_D1Qax"
      },
      "source": [
        "from training.generators.from_lmdb.lmdb_image_generator import get_generators"
      ],
      "execution_count": null,
      "outputs": []
    },
    {
      "cell_type": "code",
      "metadata": {
        "id": "ccy0nIqo1p0M"
      },
      "source": [
        "dataset_name='CBSD68_low2high'\n",
        "lmdb_dir = '.CBSD68_low2high_LMDB'"
      ],
      "execution_count": null,
      "outputs": []
    },
    {
      "cell_type": "code",
      "metadata": {
        "id": "thZNSgqQsL2j"
      },
      "source": [
        "batch_size = 10\n",
        "latents_dim = 50\n",
        "intermediate_dim = 50"
      ],
      "execution_count": null,
      "outputs": []
    },
    {
      "cell_type": "code",
      "metadata": {
        "id": "L1z8fF3X4GLU"
      },
      "source": [
        "from transformation.lmdb_transformer import LmdbTransformer"
      ],
      "execution_count": null,
      "outputs": []
    },
    {
      "cell_type": "code",
      "metadata": {
        "id": "2RNk8Kvh4LpE",
        "scrolled": true
      },
      "source": [
        "train_generator, val_generator = get_generators(\n",
        "        lmdb_dir=lmdb_dir,\n",
        "        batch_size=batch_size,\n",
        "        episode_len=None,\n",
        "        episode_shift=None,\n",
        "        return_itr=False,\n",
        "        class_mode='sr'\n",
        ")"
      ],
      "execution_count": null,
      "outputs": []
    },
    {
      "cell_type": "code",
      "metadata": {
        "id": "rdaXnN8yeHng"
      },
      "source": [
        "for data in train_generator:\n",
        "    break\n",
        "#data = next(train_itr)\n",
        "print(data.keys())"
      ],
      "execution_count": null,
      "outputs": []
    },
    {
      "cell_type": "code",
      "metadata": {
        "id": "p688XTHCCoQL"
      },
      "source": [
        "import matplotlib.pyplot as plt"
      ],
      "execution_count": null,
      "outputs": []
    },
    {
      "cell_type": "code",
      "metadata": {
        "id": "JAJTQd8MCoQN"
      },
      "source": [
        "from PIL import Image"
      ],
      "execution_count": null,
      "outputs": []
    },
    {
      "cell_type": "code",
      "metadata": {
        "id": "Z_7YZ6HZCoQO"
      },
      "source": [
        "import numpy as np"
      ],
      "execution_count": null,
      "outputs": []
    },
    {
      "cell_type": "code",
      "metadata": {
        "id": "z6kTHJ8YCoQQ"
      },
      "source": [
        "source_img_size, target_img_size =  data['xt0'][0].shape, data['xt1'][0].shape\n",
        "source_img_size, target_img_size"
      ],
      "execution_count": null,
      "outputs": []
    },
    {
      "cell_type": "code",
      "metadata": {
        "id": "UwaTau--CoQS"
      },
      "source": [
        "#source_img_size, target_img_size = (32, 48, 3), (10, 16, 3)"
      ],
      "execution_count": null,
      "outputs": []
    },
    {
      "cell_type": "code",
      "metadata": {
        "id": "fx-omFpzCoQT"
      },
      "source": [
        "Image.fromarray((data['xt0'][0].numpy() * 255.0).astype(np.uint8), mode='RGB')"
      ],
      "execution_count": null,
      "outputs": []
    },
    {
      "cell_type": "code",
      "metadata": {
        "id": "dGsmGeo_CoQV"
      },
      "source": [
        "image = data['xt1'][0].numpy()"
      ],
      "execution_count": null,
      "outputs": []
    },
    {
      "cell_type": "code",
      "metadata": {
        "id": "TQUhPFOMCoQX"
      },
      "source": [
        "Image.fromarray((data['xt1'][0].numpy() * 255.0).astype(np.uint8), mode='RGB')"
      ],
      "execution_count": null,
      "outputs": []
    },
    {
      "cell_type": "code",
      "metadata": {
        "id": "VZ2BRJMQVs3S"
      },
      "source": [
        "import numpy as np\n",
        "from collections.abc import Iterable\n",
        "if isinstance(source_img_size, Iterable):\n",
        "    flat_outputs_shape = np.prod(source_img_size)\n",
        "flat_outputs_shape    "
      ],
      "execution_count": null,
      "outputs": []
    },
    {
      "cell_type": "markdown",
      "metadata": {
        "id": "JuafIGAykx6q"
      },
      "source": [
        "# Model's Layers definition"
      ]
    },
    {
      "cell_type": "code",
      "metadata": {
        "id": "nlyjHfTbkx6r"
      },
      "source": [
        "kernel_size=3\n",
        "stride = 2"
      ],
      "execution_count": null,
      "outputs": []
    },
    {
      "cell_type": "code",
      "metadata": {
        "id": "UryhJFPLkx6u"
      },
      "source": [
        "c = (55, 75)#list(map(lambda x: x// (stride*stride), source_img_size[:-1]))\n",
        "c = (*c, intermediate_dim)\n",
        "c"
      ],
      "execution_count": null,
      "outputs": []
    },
    {
      "cell_type": "code",
      "metadata": {
        "id": "kInxGIlrCoQe"
      },
      "source": [
        "np.product(c)"
      ],
      "execution_count": null,
      "outputs": []
    },
    {
      "cell_type": "code",
      "metadata": {
        "id": "_4tZx_f7kx60"
      },
      "source": [
        "enc_lays = [\n",
        "    tf.keras.layers.UpSampling2D(size=(2, 2)),\n",
        "    tf.keras.layers.UpSampling2D(size=(2, 2)),\n",
        "    tf.keras.layers.Flatten(),\n",
        "    # No activation\n",
        "    tf.keras.layers.Dense(latents_dim)\n",
        "]\n",
        "\n",
        "dec_lays = [\n",
        "    tf.keras.layers.Dense(units=np.product(c), activation=tf.nn.relu),\n",
        "    tf.keras.layers.Reshape(target_shape=c),\n",
        "    tf.keras.layers.Conv2DTranspose(filters=intermediate_dim, kernel_size=kernel_size, strides=(stride, stride), padding=\"SAME\", activation='relu'),\n",
        "    tf.keras.layers.Conv2DTranspose(filters=intermediate_dim, kernel_size=kernel_size, strides=(stride, stride), padding=\"SAME\", activation='relu'),\n",
        "    # No activation\n",
        "    tf.keras.layers.Conv2DTranspose(filters=3, kernel_size=kernel_size, strides=(1, 1), padding=\"SAME\")\n",
        "]"
      ],
      "execution_count": null,
      "outputs": []
    },
    {
      "cell_type": "markdown",
      "metadata": {
        "id": "dwJyfeImkx65"
      },
      "source": [
        "# Model definition"
      ]
    },
    {
      "cell_type": "code",
      "metadata": {
        "id": "KgsWtKI0kx65"
      },
      "source": [
        "model_name = dataset_name+'_Conv_Pre_Upsampling_LMDB'\n",
        "#windows\n",
        "#experiments_dir='..' + sep_local + '..' + sep_local +'..' + sep_local + '..' + sep_local + '..'+sep_local+'experiments'+sep_local + model_name\n",
        "\n",
        "#linux \n",
        "experiments_dir=os.getcwd()+ sep_local  +'experiments'+sep_local + model_name"
      ],
      "execution_count": null,
      "outputs": []
    },
    {
      "cell_type": "code",
      "metadata": {
        "id": "QR07vyNrCoQj"
      },
      "source": [
        "target_img_size, source_img_size"
      ],
      "execution_count": null,
      "outputs": []
    },
    {
      "cell_type": "code",
      "metadata": {
        "id": "-q9NueoMkx7F"
      },
      "source": [
        "variables_params = \\\n",
        "[\n",
        "    {\n",
        "        'name': 'inference',  #'upsampler',\n",
        "        'inputs_shape':target_img_size,\n",
        "        'outputs_shape':latents_dim,\n",
        "        'layers': enc_lays\n",
        "    }\n",
        "\n",
        "    ,\n",
        "    \n",
        "        {\n",
        "        'name': 'generative', #'constructive', \n",
        "        'inputs_shape':latents_dim,\n",
        "        'outputs_shape':source_img_size,\n",
        "        'layers':dec_lays\n",
        "    }\n",
        "]"
      ],
      "execution_count": null,
      "outputs": []
    },
    {
      "cell_type": "code",
      "metadata": {
        "id": "8NFXibVOkx7L",
        "pycharm": {
          "name": "#%%\n"
        }
      },
      "source": [
        "from os.path import abspath\n",
        "from utils.data_and_files.file_utils import create_if_not_exist\n",
        "_restore = os.path.join(experiments_dir, 'var_save_dir')\n",
        "create_if_not_exist(_restore)\n",
        "absolute = abspath(_restore)\n",
        "print(\"Restore_dir\",absolute)\n",
        "absolute = abspath(experiments_dir)\n",
        "print(\"Recording_dir\",absolute)\n",
        "print(\"Current working dir\",os.getcwd())"
      ],
      "execution_count": null,
      "outputs": []
    },
    {
      "cell_type": "code",
      "metadata": {
        "id": "gxTPIUsWEiz0"
      },
      "source": [
        "#!mv drive/MyDrive/Colab\\ Notebooks/Pre_Upsampling_weights/ experiments/CBSD68_low2high_Conv_Pre_Upsampling_LMDB/var_save_dir\n",
        "!cp -r weights/Pre_Upsampling_weights/initial17completed/ experiments/CBSD68_low2high_Conv_Pre_Upsampling_LMDB/var_save_dir\n",
        "!mv experiments/CBSD68_low2high_Conv_Pre_Upsampling_LMDB/var_save_dir/initial17completed/* experiments/CBSD68_low2high_Conv_Pre_Upsampling_LMDB/var_save_dir/"
      ],
      "execution_count": null,
      "outputs": []
    },
    {
      "cell_type": "code",
      "metadata": {
        "id": "leA46faWOed2"
      },
      "source": [
        ""
      ],
      "execution_count": null,
      "outputs": []
    },
    {
      "cell_type": "code",
      "metadata": {
        "id": "WWnSN9Sjkx7P"
      },
      "source": [
        "from training.autoencoding_basic.transformative.AE import autoencoder as AE"
      ],
      "execution_count": null,
      "outputs": []
    },
    {
      "cell_type": "code",
      "metadata": {
        "id": "bJ05n010kx7T",
        "scrolled": false
      },
      "source": [
        "ae = AE( \n",
        "    name=model_name,\n",
        "    latents_dim=latents_dim,\n",
        "    batch_size=batch_size,\n",
        "    variables_params=variables_params, \n",
        "    filepath=_restore, #to restore trained model, set filepath=_restore\n",
        "    episode_len=1\n",
        "    )"
      ],
      "execution_count": null,
      "outputs": []
    },
    {
      "cell_type": "code",
      "metadata": {
        "id": "nXiXok8jCoQs"
      },
      "source": [
        "ae.compile()\n",
        "#ae.compile(metrics=None)"
      ],
      "execution_count": null,
      "outputs": []
    },
    {
      "cell_type": "markdown",
      "metadata": {
        "id": "Bf5WOMHMkx7b"
      },
      "source": [
        "# Callbacks"
      ]
    },
    {
      "cell_type": "code",
      "metadata": {
        "id": "4h9PJzlWkx7c"
      },
      "source": [
        "# added for linux warning suppression\n",
        "import logging\n",
        "mpl_logger = logging.getLogger('matplotlib')\n",
        "mpl_logger.setLevel(logging.WARNING)\n",
        "\n",
        "\n",
        "from training.callbacks.trace_image_reconstruction import trace_reconstruction\n",
        "from training.callbacks.save_model import ModelSaver"
      ],
      "execution_count": null,
      "outputs": []
    },
    {
      "cell_type": "code",
      "metadata": {
        "id": "touTmsjckx7o"
      },
      "source": [
        "es = tf.keras.callbacks.EarlyStopping(\n",
        "    monitor='loss', \n",
        "    min_delta=1e-12, \n",
        "    patience=12, \n",
        "    verbose=1, \n",
        "    restore_best_weights=False\n",
        ")"
      ],
      "execution_count": null,
      "outputs": []
    },
    {
      "cell_type": "code",
      "metadata": {
        "id": "Yf9Iu8iKkx7t"
      },
      "source": [
        "ms = ModelSaver(filepath=_restore)"
      ],
      "execution_count": null,
      "outputs": []
    },
    {
      "cell_type": "code",
      "metadata": {
        "id": "irKXL5j2kx7x"
      },
      "source": [
        "csv_dir = os.path.join(experiments_dir, 'csv_dir')\n",
        "create_if_not_exist(csv_dir)\n",
        "csv_dir = os.path.join(csv_dir, model_name+'.csv')\n",
        "csv_log = tf.keras.callbacks.CSVLogger(csv_dir, append=True)\n",
        "absolute = abspath(csv_dir)\n",
        "print(\"Csv_dir\",absolute)"
      ],
      "execution_count": null,
      "outputs": []
    },
    {
      "cell_type": "code",
      "metadata": {
        "id": "625keQNvkx72"
      },
      "source": [
        "image_reconstuction_dir = os.path.join(experiments_dir, 'image_reconstuction_dir')\n",
        "create_if_not_exist(image_reconstuction_dir)\n",
        "absolute = abspath(image_reconstuction_dir)\n",
        "print(\"image_reconstuction_dir\",absolute)"
      ],
      "execution_count": null,
      "outputs": []
    },
    {
      "cell_type": "code",
      "metadata": {
        "id": "EJPJoe6JCoQ5"
      },
      "source": [
        "img_reconst = trace_reconstruction(filepath=image_reconstuction_dir, image=image, gen_freq=5)"
      ],
      "execution_count": null,
      "outputs": []
    },
    {
      "cell_type": "markdown",
      "metadata": {
        "id": "Fz8q2wlEkx8D",
        "pycharm": {
          "name": "#%% md\n"
        }
      },
      "source": [
        "# Model Training"
      ]
    },
    {
      "cell_type": "code",
      "metadata": {
        "id": "bECPRaBBknHt"
      },
      "source": [
        "#ae.compile()"
      ],
      "execution_count": null,
      "outputs": []
    },
    {
      "cell_type": "code",
      "metadata": {
        "id": "dVbzRKVokx8E",
        "scrolled": false
      },
      "source": [
        "ae.fit(\n",
        "    x=train_generator,\n",
        "    input_kw=None,\n",
        "    steps_per_epoch=int(1e4),\n",
        "    epochs=int(1e6), \n",
        "    verbose=1,\n",
        "    callbacks=[ es, ms, csv_log, img_reconst],\n",
        "    workers=-1,\n",
        "    use_multiprocessing=True,\n",
        "    validation_data=val_generator,\n",
        "    validation_steps=int(1e4)\n",
        "    )"
      ],
      "execution_count": null,
      "outputs": []
    },
    {
      "cell_type": "code",
      "metadata": {
        "id": "3bLtFLbH2ypB"
      },
      "source": [
        "#!mv drive/MyDrive/Colab\\ Notebooks/Pre_Upsampling_weights/ Generative_Models/experiments/CBSD68_low2high_Conv_Pre_Upsampling_LMDB/var_save_dir\n",
        "!cp -r  experiments/CBSD68_low2high_Conv_Pre_Upsampling_LMDB/var_save_dir Pre_Upsampling_weights/initial35completed/ # number of completed epochs during training session"
      ],
      "execution_count": null,
      "outputs": []
    },
    {
      "cell_type": "markdown",
      "metadata": {
        "id": "x5PqSnbzxsMq"
      },
      "source": [
        ""
      ]
    },
    {
      "cell_type": "code",
      "metadata": {
        "id": "mAtGR3HXWNhV"
      },
      "source": [
        "#ae.save(_model)"
      ],
      "execution_count": null,
      "outputs": []
    },
    {
      "cell_type": "code",
      "metadata": {
        "id": "ex9UmiODtpAV"
      },
      "source": [
        "#ae.compile()"
      ],
      "execution_count": null,
      "outputs": []
    },
    {
      "cell_type": "markdown",
      "metadata": {
        "id": "j6Ayt92VQ0JP"
      },
      "source": [
        "# Testing"
      ]
    },
    {
      "cell_type": "code",
      "metadata": {
        "id": "hjmREfdsQzLu"
      },
      "source": [
        "for t_data in val_generator:\n",
        "    break\n",
        "#data = next(train_itr)\n",
        "print(t_data.keys())"
      ],
      "execution_count": null,
      "outputs": []
    },
    {
      "cell_type": "code",
      "metadata": {
        "id": "b0vaQkQlRAvL"
      },
      "source": [
        "data['xt0'].shape"
      ],
      "execution_count": null,
      "outputs": []
    },
    {
      "cell_type": "code",
      "metadata": {
        "id": "mlysBzyJRdmT"
      },
      "source": [
        "t_source_img_size, t_target_img_size =  t_data['xt0'][0].shape, t_data['xt1'][0].shape\n",
        "t_source_img_size, t_target_img_size"
      ],
      "execution_count": null,
      "outputs": []
    },
    {
      "cell_type": "code",
      "metadata": {
        "id": "9DwGpyI3RdmU"
      },
      "source": [
        "#source_img_size, target_img_size = (32, 48, 3), (10, 16, 3)"
      ],
      "execution_count": null,
      "outputs": []
    },
    {
      "cell_type": "code",
      "metadata": {
        "id": "j9RmRMwNRdmU"
      },
      "source": [
        "Image.fromarray((t_data['xt0'][1].numpy() * 255.0).astype(np.uint8), mode='RGB')"
      ],
      "execution_count": null,
      "outputs": []
    },
    {
      "cell_type": "code",
      "metadata": {
        "id": "VKhI6Y89RdmU"
      },
      "source": [
        "image = t_data['xt1'][1].numpy()"
      ],
      "execution_count": null,
      "outputs": []
    },
    {
      "cell_type": "code",
      "metadata": {
        "id": "mLomD_5fRdmU"
      },
      "source": [
        "Image.fromarray((t_data['xt1'][1].numpy() * 255.0).astype(np.uint8), mode='RGB')"
      ],
      "execution_count": null,
      "outputs": []
    },
    {
      "cell_type": "code",
      "metadata": {
        "id": "iAHlBCMXRy20"
      },
      "source": [
        "preds=ae.predict(t_data['xt1'])"
      ],
      "execution_count": null,
      "outputs": []
    },
    {
      "cell_type": "code",
      "metadata": {
        "id": "HyecT3bWR_rg"
      },
      "source": [
        "#from sklearn.metrics import confusion_matrix"
      ],
      "execution_count": null,
      "outputs": []
    },
    {
      "cell_type": "code",
      "metadata": {
        "id": "HuvjJr3z2pVt"
      },
      "source": [
        "os.chdir('experiments/CBSD68_low2high_Conv_Pre_Upsampling_LMDB/results')\n",
        "print(os.getcwd())"
      ],
      "execution_count": null,
      "outputs": []
    },
    {
      "cell_type": "code",
      "metadata": {
        "id": "xcC4DGdNOZ19"
      },
      "source": [
        "Image.fromarray((preds[1] * 255.0).astype(np.uint8), mode='RGB')"
      ],
      "execution_count": null,
      "outputs": []
    },
    {
      "cell_type": "markdown",
      "metadata": {
        "id": "ExO-NctdDzR6"
      },
      "source": [
        "# Saving results"
      ]
    },
    {
      "cell_type": "code",
      "metadata": {
        "id": "Xdg-4rZhGIXq"
      },
      "source": [
        "# if you want to save new results, first remove older images from following directories\n",
        "#!rm -r combined/*\n",
        "#!rm -r seperate/*"
      ],
      "execution_count": null,
      "outputs": []
    },
    {
      "cell_type": "code",
      "metadata": {
        "id": "MzSZiYHR2fMy"
      },
      "source": [
        "# seperate images\n",
        "os.chdir('seperate')\n",
        "print(os.getcwd())\n",
        "i=1\n",
        "for k in preds:  \n",
        "  Image.fromarray((k * 255.0).astype(np.uint8), mode='RGB').save('image_result_'+str(i)+'.jpg')\n",
        "  i+=1\n",
        "os.chdir('../')\n",
        "print(os.getcwd())"
      ],
      "execution_count": null,
      "outputs": []
    },
    {
      "cell_type": "code",
      "metadata": {
        "id": "28-ErNVd1p-4"
      },
      "source": [
        "#combined with original images\n",
        "def get_concat_h(im1, im2):\n",
        "    dst = Image.new('RGB', (im1.width + im2.width, im1.height))\n",
        "    dst.paste(im1, (0, 0))\n",
        "    dst.paste(im2, (im1.width, 0))\n",
        "    return dst"
      ],
      "execution_count": null,
      "outputs": []
    },
    {
      "cell_type": "code",
      "metadata": {
        "id": "XrLHs9py67xL"
      },
      "source": [
        "os.chdir('combined')\n",
        "print(os.getcwd())\n",
        "i=0\n",
        "for k in preds:\n",
        "  im2=Image.fromarray((k * 255.0).astype(np.uint8), mode='RGB')\n",
        "  im1=Image.fromarray((t_data['xt0'][i].numpy() * 255.0).astype(np.uint8), mode='RGB')\n",
        "  get_concat_h(im1, im2).save('_combined_image_result_'+str(i+1)+'_h.jpg')\n",
        "  i+=1\n",
        "os.chdir('../')\n",
        "print(os.getcwd())"
      ],
      "execution_count": null,
      "outputs": []
    },
    {
      "cell_type": "markdown",
      "metadata": {
        "id": "QGI3UWBlEyjj"
      },
      "source": [
        "# Metrics evaluation"
      ]
    },
    {
      "cell_type": "code",
      "metadata": {
        "id": "jMO87uBBTRVw"
      },
      "source": [
        "preds.shape"
      ],
      "execution_count": null,
      "outputs": []
    },
    {
      "cell_type": "code",
      "metadata": {
        "id": "orHR7Ab0TZ1Y"
      },
      "source": [
        "ae.evaluate( t_data['xt1'], preds)"
      ],
      "execution_count": null,
      "outputs": []
    },
    {
      "cell_type": "code",
      "metadata": {
        "id": "vYgC7MESTf01"
      },
      "source": [
        "#intersection of unions\n",
        "from keras import backend as K\n",
        "def iou_coef(y_true, y_pred, smooth=1):\n",
        "  intersection = K.sum(K.abs(y_true * y_pred), axis=[1,2,3])\n",
        "  union = K.sum(y_true,[1,2,3])+K.sum(y_pred,[1,2,3])-intersection\n",
        "  iou = K.mean((intersection + smooth) / (union + smooth), axis=0)\n",
        "  return iou"
      ],
      "execution_count": null,
      "outputs": []
    },
    {
      "cell_type": "code",
      "metadata": {
        "id": "C-G1orKO0qCL"
      },
      "source": [
        "print(iou_coef(t_data['xt1'], preds))"
      ],
      "execution_count": null,
      "outputs": []
    },
    {
      "cell_type": "markdown",
      "metadata": {
        "id": "wpSeIfwDqS3F"
      },
      "source": [
        "PSNR"
      ]
    },
    {
      "cell_type": "code",
      "metadata": {
        "id": "nm-Tk6PM7X1_"
      },
      "source": [
        "import math\n",
        "import numpy as np\n",
        "\n",
        "def calculate_psnr(img1, img2):\n",
        "    # img1 and img2 have range [0, 255]\n",
        "    img1 = img1.astype(np.float64)\n",
        "    img2 = img2.astype(np.float64)\n",
        "    mse = np.mean((img1 - img2)**2)\n",
        "    if mse == 0:\n",
        "        return float('inf')\n",
        "    return 20 * math.log10(255.0 / math.sqrt(mse))"
      ],
      "execution_count": null,
      "outputs": []
    },
    {
      "cell_type": "code",
      "metadata": {
        "id": "_8Ecp9b2qVl1"
      },
      "source": [
        "print(calculate_psnr(t_data['xt0'][4].numpy(), preds[4]))"
      ],
      "execution_count": null,
      "outputs": []
    },
    {
      "cell_type": "markdown",
      "metadata": {
        "id": "SDQaCsa4r_Vo"
      },
      "source": [
        "SSIM"
      ]
    },
    {
      "cell_type": "code",
      "metadata": {
        "id": "eKjdbvdvqga9"
      },
      "source": [
        "import math\n",
        "import numpy as np\n",
        "import cv2\n",
        "\n",
        "def ssim(img1, img2):\n",
        "    C1 = (0.01 * 255)**2\n",
        "    C2 = (0.03 * 255)**2\n",
        "\n",
        "    img1 = img1.astype(np.float64)\n",
        "    img2 = img2.astype(np.float64)\n",
        "    kernel = cv2.getGaussianKernel(11, 1.5)\n",
        "    window = np.outer(kernel, kernel.transpose())\n",
        "\n",
        "    mu1 = cv2.filter2D(img1, -1, window)[5:-5, 5:-5]  # valid\n",
        "    mu2 = cv2.filter2D(img2, -1, window)[5:-5, 5:-5]\n",
        "    mu1_sq = mu1**2\n",
        "    mu2_sq = mu2**2\n",
        "    mu1_mu2 = mu1 * mu2\n",
        "    sigma1_sq = cv2.filter2D(img1**2, -1, window)[5:-5, 5:-5] - mu1_sq\n",
        "    sigma2_sq = cv2.filter2D(img2**2, -1, window)[5:-5, 5:-5] - mu2_sq\n",
        "    sigma12 = cv2.filter2D(img1 * img2, -1, window)[5:-5, 5:-5] - mu1_mu2\n",
        "\n",
        "    ssim_map = ((2 * mu1_mu2 + C1) * (2 * sigma12 + C2)) / ((mu1_sq + mu2_sq + C1) *\n",
        "                                                            (sigma1_sq + sigma2_sq + C2))\n",
        "    return ssim_map.mean()\n",
        "\n",
        "\n",
        "def calculate_ssim(img1, img2):\n",
        "    '''calculate SSIM\n",
        "    the same outputs as MATLAB's\n",
        "    img1, img2: [0, 255]\n",
        "    '''\n",
        "    if not img1.shape == img2.shape:\n",
        "        raise ValueError('Input images must have the same dimensions.')\n",
        "    if img1.ndim == 2:\n",
        "        return ssim(img1, img2)\n",
        "    elif img1.ndim == 3:\n",
        "        if img1.shape[2] == 3:\n",
        "            ssims = []\n",
        "            for i in range(3):\n",
        "                ssims.append(ssim(img1, img2))\n",
        "            return np.array(ssims).mean()\n",
        "        elif img1.shape[2] == 1:\n",
        "            return ssim(np.squeeze(img1), np.squeeze(img2))\n",
        "    else:\n",
        "        raise ValueError('Wrong input image dimensions.')"
      ],
      "execution_count": null,
      "outputs": []
    },
    {
      "cell_type": "code",
      "metadata": {
        "id": "-SK6IsLYsAt0"
      },
      "source": [
        "\n",
        "print(calculate_ssim(t_data['xt0'][4].numpy(), preds[4]))"
      ],
      "execution_count": null,
      "outputs": []
    },
    {
      "cell_type": "markdown",
      "metadata": {
        "id": "GOB_FiXxHl5Z"
      },
      "source": [
        "# Push on github"
      ]
    },
    {
      "cell_type": "code",
      "metadata": {
        "id": "S2RturF2Hogm"
      },
      "source": [
        ""
      ],
      "execution_count": null,
      "outputs": []
    }
  ]
}